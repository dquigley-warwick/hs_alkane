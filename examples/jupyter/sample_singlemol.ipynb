{
 "cells": [
  {
   "cell_type": "markdown",
   "id": "willing-newark",
   "metadata": {},
   "source": [
    "# Conformational sampling of an alkane molecule"
   ]
  },
  {
   "cell_type": "markdown",
   "id": "accurate-translation",
   "metadata": {},
   "source": [
    "## Preliminaries\n",
    "\n",
    "Import the Python packages we'll need, and initialise a simulation of a single alkane chain with 10 beads. We're not using periodic boundary conditions or a densely packed system, so disable use of link cells and Verlet lists for this example. By default we create only a single replica with index 1. Note that because the model code is written in Fortran internally, replicas, chains and bead indices are 1-based not zero-based. That can probably be changed...."
   ]
  },
  {
   "cell_type": "code",
   "execution_count": 1,
   "id": "composed-parameter",
   "metadata": {},
   "outputs": [],
   "source": [
    "import numpy as np  # Numpy\n",
    "import math as m    # Maths\n",
    "\n",
    "import hs_alkane.alkane as mdl # Fortran library we'll used to model the alkane chain"
   ]
  },
  {
   "cell_type": "code",
   "execution_count": 2,
   "id": "modern-court",
   "metadata": {},
   "outputs": [],
   "source": [
    "mdl.box_initialise()             # Initialise the simulation box\n",
    "mdl.box_set_pbc(0)               # Don't use periodic boundary conditions\n",
    "mdl.box_set_bypass_link_cells(1) # Bypass use of link cell algorithm for neighbour finding\n",
    "mdl.box_set_use_verlet_list(0)   # Don't use Verlet lists either since CBMC moves quickly invalidate these"
   ]
  },
  {
   "cell_type": "markdown",
   "id": "elect-attitude",
   "metadata": {},
   "source": [
    "At this point we can access the matrix of cell vectors for our single box with mdl.box_get_cell(1) but since we're not using periodic boundary conditions there wouldn't be any point. "
   ]
  },
  {
   "cell_type": "markdown",
   "id": "acquired-daily",
   "metadata": {},
   "source": [
    "## Create an initial configuration\n",
    "To to this we initialise the alkane module inside the library (this isn't automatic - yet) after setting the number of chains and beads per chain that we want."
   ]
  },
  {
   "cell_type": "code",
   "execution_count": 3,
   "id": "checked-treasury",
   "metadata": {},
   "outputs": [],
   "source": [
    "nchains = 1; nbeads = 10\n",
    "mdl.alkane_set_nchains(nchains)   # 1 chain\n",
    "mdl.alkane_set_nbeads(nbeads)     # 10 beads per chans\n",
    "mdl.alkane_initialise()           # initialise alkane model with these settings"
   ]
  },
  {
   "cell_type": "markdown",
   "id": "relative-stuff",
   "metadata": {},
   "source": [
    "At this point we can access the coordinates of the chain used within the model via mdl.alkane_get_chain(), but these aren't populated yet so that will just return garbage. Instead let's instruct the library to grow a new chain from scratch via CBMC/Rosenbluth sampling. Note that we set new_conf=1 to indicate we want to grow a new chain from scratch rather than regrow a segment of an existing chain.\n",
    "\n",
    "Note that sometimes the attempt to grow a new chain will fail because none of the ktrials attempts to place the next monomer were successful. This parameter can be increased with mdl.alkane_set_ktrial(). The default is 5."
   ]
  },
  {
   "cell_type": "code",
   "execution_count": 4,
   "id": "sacred-central",
   "metadata": {},
   "outputs": [],
   "source": [
    "rbfactor, ifail = mdl.alkane_grow_chain(1, 1, new_conf=1) # chain 1 in box 1\n",
    "if ifail != 0 :\n",
    "    print(\"Failed to grow a chain. Trying increasing number of trials per monomer (ktrials).\")"
   ]
  },
  {
   "cell_type": "markdown",
   "id": "ruled-quality",
   "metadata": {},
   "source": [
    "A \"Rosenbluth factor\" is also returned. We will need when using this function to attempt CBMC moves. It is needed to determine the probability that the move will be accepted.\n",
    "\n",
    "Assuming we managed to grow a chain, we might want to populate an ASE atoms object with them so that we can leverage ASE functionality in whatever on-the-fly analysis of the structure we might be interested in. We'll pretend our beads are carbon atoms for the purpose of visualisation, but we're not working in \"real\" units here so that choice doesn't really represent anything. Within this model one length unit is one bead diameter, and bead-beand bond length is 0.4 length units. So scaling up everything by a factor of (1.54/0.4) would give us something in Angstroms(ish)."
   ]
  },
  {
   "cell_type": "code",
   "execution_count": 5,
   "id": "accepting-booking",
   "metadata": {},
   "outputs": [],
   "source": [
    "from ase import Atoms\n",
    "\n",
    "model_positions = mdl.alkane_get_chain(1, 1)\n",
    "chain_config = Atoms('C10', positions=model_positions*(1.5/0.4), pbc=False)"
   ]
  },
  {
   "cell_type": "markdown",
   "id": "interested-trunk",
   "metadata": {},
   "source": [
    "We should now be able to visualise this."
   ]
  },
  {
   "cell_type": "code",
   "execution_count": 6,
   "id": "caroline-civilization",
   "metadata": {},
   "outputs": [
    {
     "data": {
      "application/vnd.jupyter.widget-view+json": {
       "model_id": "8a40c36543ec460fa54e6a99f48c5021",
       "version_major": 2,
       "version_minor": 0
      },
      "text/plain": []
     },
     "metadata": {},
     "output_type": "display_data"
    },
    {
     "data": {
      "application/vnd.jupyter.widget-view+json": {
       "model_id": "06e65a5818df4ff98867b75b49eb9cbf",
       "version_major": 2,
       "version_minor": 0
      },
      "text/plain": [
       "HBox(children=(NGLWidget(), VBox(children=(Dropdown(description='Show', options=('All', 'C'), value='All'), Dr…"
      ]
     },
     "metadata": {},
     "output_type": "display_data"
    }
   ],
   "source": [
    "from ase.visualize import view\n",
    "\n",
    "v = view(chain_config, viewer='ngl')\n",
    "v.view.clear_representations()\n",
    "v.view.add_representation('ball+stick', radius=0.3)\n",
    "v"
   ]
  },
  {
   "cell_type": "markdown",
   "id": "varying-relevance",
   "metadata": {},
   "source": [
    "## Dihedral angle moves\n",
    "For an isolated chain it's not useful to explore rotatations or translations of the whole chain. Any property of a single chain that we might want to calculate is invariant to these. Since bond lengths and angles are constrained in our model, the only remaining degrees of freedom are dihedral angles. \n",
    "\n",
    "Lets make a backup of our current chain_config ASE object and try making a Monte Carlo move which changes a dihedral angle."
   ]
  },
  {
   "cell_type": "code",
   "execution_count": 7,
   "id": "biological-cooling",
   "metadata": {},
   "outputs": [],
   "source": [
    "old_model_positions = model_positions.copy()   # Note copy, not a reference to the existing object \n",
    "old_chain_config    = chain_config.copy()      # Also backup the ASE object"
   ]
  },
  {
   "cell_type": "markdown",
   "id": "intermediate-scene",
   "metadata": {},
   "source": [
    "Query the current maximum dihedral angle change in Monte Carlo moves of this kind, converting to degrees."
   ]
  },
  {
   "cell_type": "code",
   "execution_count": 8,
   "id": "intimate-program",
   "metadata": {},
   "outputs": [
    {
     "name": "stdout",
     "output_type": "stream",
     "text": [
      "Maximum dihedral rotation  3.437746770784939 degrees\n"
     ]
    }
   ],
   "source": [
    "print(\"Maximum dihedral rotation \", mdl.alkane_get_dh_max()*180/m.pi, \"degrees\")"
   ]
  },
  {
   "cell_type": "markdown",
   "id": "three-mediterranean",
   "metadata": {},
   "source": [
    "Make a trial move. This will update the model by picking a random dihedral alkane on a randomly selected chain and changing that angle by a random amount between +/- the above maximum. If we specify allow_flip=1 then there is a 50% possibility that an additional 120 degrees is added to this to switch us between 'gauche' and 'anti'-conformations about the central bond.\n",
    "\n",
    "Wrinkle - as per above the beads on the chain are indexed by the model library as 1-based, whereas in Python we used zero-based indexing. We need to correct for that."
   ]
  },
  {
   "cell_type": "code",
   "execution_count": 9,
   "id": "demanding-batman",
   "metadata": {},
   "outputs": [
    {
     "name": "stdout",
     "output_type": "stream",
     "text": [
      "Trial move changed dihedral involving beads : [0, 1, 2, 3]\n",
      "Dihedral angle was changed by :  -0.09833574559712724 degrees\n"
     ]
    }
   ],
   "source": [
    "Pacc, atom1, angle = mdl.alkane_bond_rotate(1, 1, allow_flip=1)   # Chain 1 in box 1\n",
    "\n",
    "print(\"Trial move changed dihedral involving beads :\", [iatom-1 for iatom in range(atom1,atom1+4)])\n",
    "print(\"Dihedral angle was changed by : \", angle*180/m.pi, \"degrees\")"
   ]
  },
  {
   "cell_type": "markdown",
   "id": "stainless-studio",
   "metadata": {},
   "source": [
    "Visualise how that trial move has changed the conformation of the alkane chain. This should produce a two-frame animation with the old and new configuration."
   ]
  },
  {
   "cell_type": "code",
   "execution_count": 10,
   "id": "approved-criminal",
   "metadata": {},
   "outputs": [
    {
     "data": {
      "application/vnd.jupyter.widget-view+json": {
       "model_id": "34eea9a4330946379160156319ed8f7d",
       "version_major": 2,
       "version_minor": 0
      },
      "text/plain": [
       "HBox(children=(NGLWidget(max_frame=1), VBox(children=(Dropdown(description='Show', options=('All', 'C'), value…"
      ]
     },
     "metadata": {},
     "output_type": "display_data"
    }
   ],
   "source": [
    "chain_config = Atoms('C10', positions=model_positions*(1.5/0.4), pbc=False)\n",
    "v = view([chain_config,old_chain_config], viewer='ngl')\n",
    "v.view.clear_representations()\n",
    "v.view.add_representation('ball+stick', radius=0.3)\n",
    "v"
   ]
  },
  {
   "cell_type": "markdown",
   "id": "handy-technical",
   "metadata": {},
   "source": [
    "When we made the move, a variable Pacc was returned. This tells use the probability that we should accept this move as our next sample of the chain conformation, rather than reject the move and count the previous sample again. For this hard-sphere model with a square-well dihedral potential Pacc will always be 1 or 0. In this case..."
   ]
  },
  {
   "cell_type": "code",
   "execution_count": 11,
   "id": "appropriate-explorer",
   "metadata": {},
   "outputs": [
    {
     "name": "stdout",
     "output_type": "stream",
     "text": [
      "Move acceptance probability is  1.0\n",
      "Move accepted\n"
     ]
    }
   ],
   "source": [
    "print(\"Move acceptance probability is \",Pacc)\n",
    "if (Pacc>0):\n",
    "    print(\"Move accepted\")\n",
    "else:\n",
    "    print(\"Move rejected - restoring positions\")\n",
    "    for iatom in range(atom1+2,nbeads+1):                   # Note \n",
    "        print(\"Restoring bead \",iatom)\n",
    "        model_positions[iatom] = old_model_positions[iatom] "
   ]
  },
  {
   "cell_type": "markdown",
   "id": "internal-design",
   "metadata": {},
   "source": [
    "## Monte Carlo loop\n",
    "We now just need to repeat this many times to build up samples. We'll sample the end-to-end distance of the chain after every move (for now), and store the configuration every 10 moves for visualisation purposes. First we need a function to calculate the end-to-end distance of the chain."
   ]
  },
  {
   "cell_type": "code",
   "execution_count": 12,
   "id": "backed-quantity",
   "metadata": {},
   "outputs": [],
   "source": [
    "def end_to_end_distance(chain_positions):\n",
    "    ee_vector = chain_positions[-1] - chain_positions[0]\n",
    "    return np.linalg.norm(ee_vector)"
   ]
  },
  {
   "cell_type": "markdown",
   "id": "legendary-telling",
   "metadata": {},
   "source": [
    "Then sample this after every one of many trial moves."
   ]
  },
  {
   "cell_type": "code",
   "execution_count": 13,
   "id": "arctic-matter",
   "metadata": {},
   "outputs": [
    {
     "data": {
      "application/vnd.jupyter.widget-view+json": {
       "model_id": "3001ec35d064441181b8172059deea74",
       "version_major": 2,
       "version_minor": 0
      },
      "text/plain": [
       "IntProgress(value=0, max=1000)"
      ]
     },
     "metadata": {},
     "output_type": "display_data"
    }
   ],
   "source": [
    "from ipywidgets import IntProgress\n",
    "from IPython.display import display\n",
    "\n",
    "num_moves = 1000\n",
    "\n",
    "f = IntProgress(min=0, max=num_moves) # instantiate the bar\n",
    "display(f) # display the bar\n",
    "\n",
    "samples = list()  # Samples of end-to-end distance\n",
    "frames  = list()  # Frames for visualisation\n",
    "\n",
    "for imove in range(num_moves):\n",
    "\n",
    "    # Trial move\n",
    "    old_model_positions = model_positions.copy() \n",
    "    Pacc, atom1, angle = mdl.alkane_bond_rotate(1, 1, allow_flip=1)\n",
    "\n",
    "    # Accept or reject\n",
    "    xi = np.random.random()\n",
    "    if (xi>= Pacc):\n",
    "        for iatom in range(atom1+2,nbeads):\n",
    "            model_positions[iatom] = old_model_positions[iatom] \n",
    "    \n",
    "    # Append the end-to-end distance to the list of samples\n",
    "    samples.append(end_to_end_distance(model_positions))\n",
    "    \n",
    "    # Append a new frame every 10 samples\n",
    "    if imove%10 == 0:\n",
    "        frame = Atoms(\"C10\", positions=model_positions*(1.5/0.4), pbc=False)\n",
    "        frames.append(frame)\n",
    "    \n",
    "    f.value +=1  # Increment progress bar"
   ]
  },
  {
   "cell_type": "markdown",
   "id": "occupational-cabinet",
   "metadata": {},
   "source": [
    "Visualise the frames we sampled"
   ]
  },
  {
   "cell_type": "code",
   "execution_count": 14,
   "id": "sunset-patch",
   "metadata": {},
   "outputs": [
    {
     "data": {
      "application/vnd.jupyter.widget-view+json": {
       "model_id": "0cc20e086836443c915fc7c1a2c56337",
       "version_major": 2,
       "version_minor": 0
      },
      "text/plain": [
       "HBox(children=(NGLWidget(max_frame=99), VBox(children=(Dropdown(description='Show', options=('All', 'C'), valu…"
      ]
     },
     "metadata": {},
     "output_type": "display_data"
    }
   ],
   "source": [
    "v = view(frames, viewer='ngl')\n",
    "v.view.clear_representations()\n",
    "v.view.add_representation('ball+stick', radius=0.3)\n",
    "v"
   ]
  },
  {
   "cell_type": "markdown",
   "id": "incorrect-davis",
   "metadata": {},
   "source": [
    "Distribution of end-to-end distances"
   ]
  },
  {
   "cell_type": "code",
   "execution_count": 21,
   "id": "differential-tackle",
   "metadata": {},
   "outputs": [
    {
     "data": {
      "image/png": "[encoded data removed]",
      "text/plain": [
       "<Figure size 432x288 with 1 Axes>"
      ]
     },
     "metadata": {
      "needs_background": "light"
     },
     "output_type": "display_data"
    }
   ],
   "source": [
    "import matplotlib.pyplot as plt\n",
    "\n",
    "plt.hist(samples)\n",
    "plt.xlabel('End-to-end distance / sigma')\n",
    "plt.ylabel('Frequency')\n",
    "plt.show()"
   ]
  },
  {
   "cell_type": "code",
   "execution_count": null,
   "id": "magnetic-freeware",
   "metadata": {},
   "outputs": [],
   "source": []
  }
 ],
 "metadata": {
  "kernelspec": {
   "display_name": "Python 3",
   "language": "python",
   "name": "python3"
  },
  "language_info": {
   "codemirror_mode": {
    "name": "ipython",
    "version": 3
   },
   "file_extension": ".py",
   "mimetype": "text/x-python",
   "name": "python",
   "nbconvert_exporter": "python",
   "pygments_lexer": "ipython3",
   "version": "3.8.7"
  }
 },
 "nbformat": 4,
 "nbformat_minor": 5
}
