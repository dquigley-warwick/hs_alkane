{
 "cells": [
  {
   "cell_type": "markdown",
   "id": "designing-editing",
   "metadata": {},
   "source": [
    "# Conformational sampling of an alkane molecule"
   ]
  },
  {
   "cell_type": "markdown",
   "id": "polish-malaysia",
   "metadata": {},
   "source": [
    "## Preliminaries\n",
    "\n",
    "Import the Python packages we'll need, and initialise a simulation of a single alkane chain with 10 beads. We're not using periodic boundary conditions or a densely packed system, so disable use of link cells and Verlet lists for this example. By default we create only a single replica with index 1. Note that because the model code is written in Fortran internally, replicas, chains and bead indices are 1-based not zero-based. That can probably be changed...."
   ]
  },
  {
   "cell_type": "code",
   "execution_count": 1,
   "id": "particular-lambda",
   "metadata": {},
   "outputs": [],
   "source": [
    "import numpy as np  # Numpy\n",
    "import math as m    # Maths\n",
    "\n",
    "import hs_alkane.alkane as mdl   # Fortran library we'll used to model the alkane chain"
   ]
  },
  {
   "cell_type": "code",
   "execution_count": 2,
   "id": "trying-vacation",
   "metadata": {},
   "outputs": [],
   "source": [
    "mdl.box_initialise()             # Initialise the simulation box\n",
    "mdl.box_set_pbc(0)               # Don't use periodic boundary conditions\n",
    "mdl.box_set_bypass_link_cells(1) # Bypass use of link cell algorithm for neighbour finding\n",
    "mdl.box_set_use_verlet_list(0)   # Don't use Verlet lists either since CBMC moves quickly invalidate these"
   ]
  },
  {
   "cell_type": "markdown",
   "id": "geological-james",
   "metadata": {},
   "source": [
    "At this point we can access the matrix of cell vectors for our single box with mdl.box_get_cell(1) but since we're not using periodic boundary conditions there wouldn't be any point. "
   ]
  },
  {
   "cell_type": "markdown",
   "id": "trying-emperor",
   "metadata": {},
   "source": [
    "## Create an initial configuration\n",
    "To to this we initialise the alkane module inside the library (this isn't automatic - yet) after setting the number of chains and beads per chain that we want."
   ]
  },
  {
   "cell_type": "code",
   "execution_count": 3,
   "id": "assisted-conjunction",
   "metadata": {},
   "outputs": [],
   "source": [
    "nchains = 1; nbeads = 10\n",
    "mdl.alkane_set_nchains(nchains)   # 1 chain\n",
    "mdl.alkane_set_nbeads(nbeads)     # 10 beads per chans\n",
    "mdl.alkane_initialise()           # initialise alkane model with these settings"
   ]
  },
  {
   "cell_type": "markdown",
   "id": "embedded-stations",
   "metadata": {},
   "source": [
    "At this point we can access the coordinates of the chain used within the model via mdl.alkane_get_chain(), but these aren't populated yet so that will just return garbage. Instead let's instruct the library to grow a new chain from scratch via CBMC/Rosenbluth sampling. Note that we set new_conf=1 to indicate we want to grow a new chain from scratch rather than regrow a segment of an existing chain.\n",
    "\n",
    "Note that sometimes the attempt to grow a new chain will fail because none of the ktrials attempts to place the next monomer were successful. This parameter can be increased with mdl.alkane_set_ktrial(). The default is 5."
   ]
  },
  {
   "cell_type": "code",
   "execution_count": 4,
   "id": "extensive-outreach",
   "metadata": {},
   "outputs": [],
   "source": [
    "rbfactor, ifail = mdl.alkane_grow_chain(1, 1, new_conf=1) # chain 1 in box 1\n",
    "if ifail != 0 :\n",
    "    print(\"Failed to grow a chain. Trying increasing number of trials per monomer (ktrials).\")"
   ]
  },
  {
   "cell_type": "markdown",
   "id": "subtle-hormone",
   "metadata": {},
   "source": [
    "A \"Rosenbluth factor\" is also returned. We will need when using this function to attempt CBMC moves. It is needed to determine the probability that the move will be accepted.\n",
    "\n",
    "Assuming we managed to grow a chain, we might want to populate an ASE atoms object with them so that we can leverage ASE functionality in whatever on-the-fly analysis of the structure we might be interested in. We'll pretend our beads are carbon atoms for the purpose of visualisation, but we're not working in \"real\" units here so that choice doesn't really represent anything. Within this model one length unit is one bead diameter, and bead-beand bond length is 0.4 length units. So scaling up everything by a factor of (1.54/0.4) would give us something in Angstroms(ish)."
   ]
  },
  {
   "cell_type": "code",
   "execution_count": 5,
   "id": "allied-brush",
   "metadata": {},
   "outputs": [],
   "source": [
    "from ase import Atoms\n",
    "\n",
    "model_positions = mdl.alkane_get_chain(1, 1)\n",
    "chain_config = Atoms('C10', positions=model_positions*(1.5/0.4), pbc=False)"
   ]
  },
  {
   "cell_type": "markdown",
   "id": "small-trial",
   "metadata": {},
   "source": [
    "We should now be able to visualise this."
   ]
  },
  {
   "cell_type": "code",
   "execution_count": 6,
   "id": "compatible-sailing",
   "metadata": {},
   "outputs": [
    {
     "data": {
      "application/vnd.jupyter.widget-view+json": {
       "model_id": "6f0bf011b10a478891eb0ae1c9a9e054",
       "version_major": 2,
       "version_minor": 0
      },
      "text/plain": []
     },
     "metadata": {},
     "output_type": "display_data"
    },
    {
     "data": {
      "application/vnd.jupyter.widget-view+json": {
       "model_id": "fed95d709b984dfca91d8f572275d3a5",
       "version_major": 2,
       "version_minor": 0
      },
      "text/plain": [
       "HBox(children=(NGLWidget(), VBox(children=(Dropdown(description='Show', options=('All', 'C'), value='All'), Dr…"
      ]
     },
     "metadata": {},
     "output_type": "display_data"
    }
   ],
   "source": [
    "from ase.visualize import view\n",
    "\n",
    "v = view(chain_config, viewer='ngl')\n",
    "v.view.clear_representations()\n",
    "v.view.add_representation('ball+stick', radius=0.3)\n",
    "v"
   ]
  },
  {
   "cell_type": "markdown",
   "id": "confident-session",
   "metadata": {},
   "source": [
    "## Dihedral angle moves\n",
    "For an isolated chain it's not useful to explore rotatations or translations of the whole chain. Any property of a single chain that we might want to calculate is invariant to these. Since bond lengths and angles are constrained in our model, the only remaining degrees of freedom are dihedral angles. \n",
    "\n",
    "Lets make a backup of our current chain_config ASE object and try making a Monte Carlo move which changes a dihedral angle."
   ]
  },
  {
   "cell_type": "code",
   "execution_count": 7,
   "id": "adverse-essex",
   "metadata": {},
   "outputs": [],
   "source": [
    "old_model_positions = model_positions.copy()   # Note copy, not a reference to the existing object \n",
    "old_chain_config    = chain_config.copy()      # Also backup the ASE object"
   ]
  },
  {
   "cell_type": "markdown",
   "id": "improved-hawaii",
   "metadata": {},
   "source": [
    "Query the current maximum dihedral angle change in Monte Carlo moves of this kind, converting to degrees."
   ]
  },
  {
   "cell_type": "code",
   "execution_count": 8,
   "id": "light-newport",
   "metadata": {},
   "outputs": [
    {
     "name": "stdout",
     "output_type": "stream",
     "text": [
      "Maximum dihedral rotation  3.437746770784939 degrees\n"
     ]
    }
   ],
   "source": [
    "print(\"Maximum dihedral rotation \", mdl.alkane_get_dh_max()*180/m.pi, \"degrees\")"
   ]
  },
  {
   "cell_type": "markdown",
   "id": "subject-decrease",
   "metadata": {},
   "source": [
    "Make a trial move. This will update the model by picking a random dihedral alkane on a randomly selected chain and changing that angle by a random amount between +/- the above maximum. If we specify allow_flip=1 then there is a 50% possibility that an additional 120 degrees is added to this to switch us between 'gauche' and 'anti'-conformations about the central bond.\n",
    "\n",
    "Wrinkle - as per above the beads on the chain are indexed by the model library as 1-based, whereas in Python we used zero-based indexing. We need to correct for that."
   ]
  },
  {
   "cell_type": "code",
   "execution_count": 9,
   "id": "humanitarian-musical",
   "metadata": {},
   "outputs": [
    {
     "name": "stdout",
     "output_type": "stream",
     "text": [
      "Trial move changed dihedral involving beads : [5, 6, 7, 8]\n",
      "Dihedral angle was changed by :  0.60803630076251 degrees\n"
     ]
    }
   ],
   "source": [
    "Pacc, atom1, angle = mdl.alkane_bond_rotate(1, 1, allow_flip=1)   # Chain 1 in box 1\n",
    "\n",
    "print(\"Trial move changed dihedral involving beads :\", [iatom-1 for iatom in range(atom1,atom1+4)])\n",
    "print(\"Dihedral angle was changed by : \", angle*180/m.pi, \"degrees\")"
   ]
  },
  {
   "cell_type": "markdown",
   "id": "fitted-hamburg",
   "metadata": {},
   "source": [
    "Visualise how that trial move has changed the conformation of the alkane chain. This should produce a two-frame animation with the old and new configuration."
   ]
  },
  {
   "cell_type": "code",
   "execution_count": 10,
   "id": "vocational-catalyst",
   "metadata": {},
   "outputs": [
    {
     "data": {
      "application/vnd.jupyter.widget-view+json": {
       "model_id": "c24519b2de3e44c3b377acb2cbb1a830",
       "version_major": 2,
       "version_minor": 0
      },
      "text/plain": [
       "HBox(children=(NGLWidget(max_frame=1), VBox(children=(Dropdown(description='Show', options=('All', 'C'), value…"
      ]
     },
     "metadata": {},
     "output_type": "display_data"
    }
   ],
   "source": [
    "chain_config = Atoms('C10', positions=model_positions*(1.5/0.4), pbc=False)\n",
    "v = view([chain_config,old_chain_config], viewer='ngl')\n",
    "v.view.clear_representations()\n",
    "v.view.add_representation('ball+stick', radius=0.3)\n",
    "v"
   ]
  },
  {
   "cell_type": "markdown",
   "id": "official-karaoke",
   "metadata": {},
   "source": [
    "When we made the move, a variable Pacc was returned. This tells use the probability that we should accept this move as our next sample of the chain conformation, rather than reject the move and count the previous sample again. For this hard-sphere model with a square-well dihedral potential Pacc will always be 1 or 0. In this case..."
   ]
  },
  {
   "cell_type": "code",
   "execution_count": 11,
   "id": "considered-recruitment",
   "metadata": {},
   "outputs": [
    {
     "name": "stdout",
     "output_type": "stream",
     "text": [
      "Move acceptance probability is  1.0\n",
      "Move accepted\n"
     ]
    }
   ],
   "source": [
    "print(\"Move acceptance probability is \",Pacc)\n",
    "if (Pacc>0):\n",
    "    print(\"Move accepted\")\n",
    "    model_positions = mdl.alkane_get_chain(1,1)\n",
    "else:\n",
    "    print(\"Move rejected - restoring positions\")\n",
    "    for iatom in range(atom1+2,nbeads):                   # Note \n",
    "        print(\"Restoring bead \",iatom)\n",
    "        model_positions[iatom] = old_model_positions[iatom] "
   ]
  },
  {
   "cell_type": "markdown",
   "id": "aerial-proceeding",
   "metadata": {},
   "source": [
    "## Monte Carlo loop\n",
    "We now just need to repeat this many times to build up samples. We'll sample the end-to-end distance of the chain after every move (for now), and store the configuration every 10 moves for visualisation purposes. First we need a function to calculate the end-to-end distance of the chain."
   ]
  },
  {
   "cell_type": "code",
   "execution_count": 12,
   "id": "interpreted-stationery",
   "metadata": {},
   "outputs": [],
   "source": [
    "def end_to_end_distance(chain_positions):\n",
    "    ee_vector = chain_positions[-1] - chain_positions[0]\n",
    "    return np.linalg.norm(ee_vector)"
   ]
  },
  {
   "cell_type": "markdown",
   "id": "departmental-category",
   "metadata": {},
   "source": [
    "Then sample this after every one of many trial moves."
   ]
  },
  {
   "cell_type": "code",
   "execution_count": 13,
   "id": "copyrighted-collect",
   "metadata": {},
   "outputs": [
    {
     "data": {
      "application/vnd.jupyter.widget-view+json": {
       "model_id": "f4a006ed4d604794887b8cc013fb038f",
       "version_major": 2,
       "version_minor": 0
      },
      "text/plain": [
       "IntProgress(value=0, max=5000)"
      ]
     },
     "metadata": {},
     "output_type": "display_data"
    }
   ],
   "source": [
    "from ipywidgets import IntProgress\n",
    "from IPython.display import display\n",
    "\n",
    "num_moves = 5000\n",
    "\n",
    "f = IntProgress(min=0, max=num_moves) # instantiate the bar\n",
    "display(f) # display the bar\n",
    "\n",
    "samples = list()  # Samples of end-to-end distance\n",
    "frames  = list()  # Frames for visualisation\n",
    "\n",
    "for imove in range(num_moves):\n",
    "\n",
    "    # Trial move\n",
    "    old_model_positions = model_positions.copy() \n",
    "    Pacc, atom1, angle = mdl.alkane_bond_rotate(1, 1, allow_flip=1)\n",
    "\n",
    "    # Accept or reject\n",
    "    xi = np.random.random()\n",
    "    if (xi>= Pacc):\n",
    "        for iatom in range(atom1+2,nbeads):\n",
    "            model_positions[iatom] = old_model_positions[iatom]\n",
    "    else:\n",
    "        model_positions = mdl.alkane_get_chain(1,1)\n",
    "    \n",
    "    # Append the end-to-end distance to the list of samples\n",
    "    samples.append(end_to_end_distance(model_positions))\n",
    "    \n",
    "    # Append a new frame every 10 samples\n",
    "    if imove%10 == 0:\n",
    "        frame = Atoms(\"C10\", positions=model_positions*(1.5/0.4), pbc=False)\n",
    "        frames.append(frame)\n",
    "    \n",
    "    f.value +=1  # Increment progress bar"
   ]
  },
  {
   "cell_type": "markdown",
   "id": "martial-witch",
   "metadata": {},
   "source": [
    "Visualise the frames we sampled"
   ]
  },
  {
   "cell_type": "code",
   "execution_count": 14,
   "id": "knowing-steel",
   "metadata": {},
   "outputs": [
    {
     "data": {
      "application/vnd.jupyter.widget-view+json": {
       "model_id": "a8a0505217d946eeb056aee895ee3030",
       "version_major": 2,
       "version_minor": 0
      },
      "text/plain": [
       "HBox(children=(NGLWidget(max_frame=499), VBox(children=(Dropdown(description='Show', options=('All', 'C'), val…"
      ]
     },
     "metadata": {},
     "output_type": "display_data"
    }
   ],
   "source": [
    "v = view(frames, viewer='ngl')\n",
    "v.view.clear_representations()\n",
    "v.view.add_representation('ball+stick', radius=0.3)\n",
    "v"
   ]
  },
  {
   "cell_type": "markdown",
   "id": "appointed-greeting",
   "metadata": {},
   "source": [
    "Distribution of end-to-end distances"
   ]
  },
  {
   "cell_type": "code",
   "execution_count": 15,
   "id": "measured-variable",
   "metadata": {},
   "outputs": [
    {
     "data": {
      "image/png": "[encoded data removed]",
      "text/plain": [
       "<Figure size 432x288 with 1 Axes>"
      ]
     },
     "metadata": {
      "needs_background": "light"
     },
     "output_type": "display_data"
    }
   ],
   "source": [
    "import matplotlib.pyplot as plt\n",
    "\n",
    "plt.hist(samples)\n",
    "plt.xlabel('End-to-end distance / sigma')\n",
    "plt.ylabel('Frequency')\n",
    "plt.show()"
   ]
  },
  {
   "cell_type": "markdown",
   "id": "stunning-narrative",
   "metadata": {},
   "source": [
    "If we're being proper scientists we should understand to what extent these samples are correlated and sub-sample at an interval greater than the correlation time before we get too excited. Plot the autocorrelation function (ACF) of the samples. "
   ]
  },
  {
   "cell_type": "code",
   "execution_count": 16,
   "id": "exotic-princeton",
   "metadata": {},
   "outputs": [
    {
     "name": "stderr",
     "output_type": "stream",
     "text": [
      "/Users/phseal/Library/Python/3.8/lib/python/site-packages/statsmodels/tsa/stattools.py:667: FutureWarning: fft=True will become the default after the release of the 0.12 release of statsmodels. To suppress this warning, explicitly set fft=False.\n",
      "  warnings.warn(\n"
     ]
    },
    {
     "data": {
      "text/plain": [
       "[<matplotlib.lines.Line2D at 0x11adc2f70>]"
      ]
     },
     "execution_count": 16,
     "metadata": {},
     "output_type": "execute_result"
    },
    {
     "data": {
      "image/png": "[encoded data removed]",
      "text/plain": [
       "<Figure size 432x288 with 1 Axes>"
      ]
     },
     "metadata": {
      "needs_background": "light"
     },
     "output_type": "display_data"
    }
   ],
   "source": [
    "from statsmodels.tsa.stattools import acf\n",
    "Nlags = 150\n",
    "simple_acf=acf(samples, nlags=Nlags-1)\n",
    "\n",
    "plt.xlabel('Samples')\n",
    "plt.ylabel('ACF')\n",
    "plt.ylim(-0.1,1)\n",
    "plt.plot(simple_acf)"
   ]
  },
  {
   "cell_type": "markdown",
   "id": "suspected-carpet",
   "metadata": {},
   "source": [
    "From which we conclude that sub-sampling the data at an interval of around 100 samples will give us a good approximation to an uncorrelated data set."
   ]
  },
  {
   "cell_type": "code",
   "execution_count": 17,
   "id": "floppy-applicant",
   "metadata": {},
   "outputs": [
    {
     "name": "stdout",
     "output_type": "stream",
     "text": [
      "Mean end-to-end distance : 2.37 +/- 0.03\n"
     ]
    }
   ],
   "source": [
    "import statistics\n",
    "\n",
    "# Mean and standard error of the end-to-end distance to 3 dp\n",
    "subsamples=samples[::100]\n",
    "mean_ee = statistics.mean(subsamples)\n",
    "stderr_ee = statistics.stdev(subsamples)/m.sqrt(len(subsamples))\n",
    "\n",
    "print(\"Mean end-to-end distance :\",round(mean_ee,2),\"+/-\",round(stderr_ee,2))"
   ]
  },
  {
   "cell_type": "markdown",
   "id": "comprehensive-education",
   "metadata": {},
   "source": [
    "## Configurational bias moves\n",
    "We have access to a different Monte Carlo move which explores the conformation of the chain in a way which may be more efficient than tweaking individual dihedeal angles. This is the configurational bias move. It involves regrowing the chain from a randomly selected bead by generating random positions (subject to the model constraints) for each subsequent bead.\n",
    "\n",
    "The move proceeds in two stages.\n",
    "\n",
    "### Stage 1\n",
    "\n",
    "1) Pick a random bead i on the chain.\n",
    "\n",
    "2) Estimate the probability (via sampling over ktrial attempts at each bead) of growing the existing chain configuration. This is the \"Rosenbluth factor\" of the current chain.\n",
    "\n",
    "### Stage 2\n",
    "\n",
    "1) Delete all beads j>i on the chain.\n",
    "\n",
    "2) Grow a new chain by making ktrial attempts to generate the position of each subsequent bead. We select one position from all those which don't generate hard sphere overlaps, and accumate an estimated probability of that particular position being generated based on our ktrial samples. We hence calculate the Rosenblush factor of the proposed new configuration of the chain.\n",
    "\n",
    "An acceptance probability for the move can then be calculated which maintains detailed balance. We've retrospectively calculated the probability of attempting to grow the chain configuration we already have, and the probability of attempting to grow our new trial chain. Since the Boltzmann weight of the two configurations is the same in our athermal model, the probability of accepting the move is just the ratio of the two Rosenbluth factors.\n",
    "\n",
    "Let's look at an example."
   ]
  },
  {
   "cell_type": "code",
   "execution_count": 18,
   "id": "dominican-syria",
   "metadata": {},
   "outputs": [
    {
     "name": "stdout",
     "output_type": "stream",
     "text": [
      "Rosenbluth factor of original configuration :  216000.0\n"
     ]
    }
   ],
   "source": [
    "# Set ktrial\n",
    "mdl.alkane_set_ktrial(12)              # Number of trials at each segment\n",
    "mdl.alkane_set_max_regrow(nbeads-3)    # Max number of segments to regrow\n",
    "\n",
    "# Backup the current chain configuration \n",
    "old_model_positions = model_positions.copy()   # Note copy, not a reference to the existing object \n",
    "old_chain_config    = chain_config.copy()      # Also backup the ASE object\n",
    "\n",
    "# First stage - calculate RBfactor for the current configuration\n",
    "old_rbfactor, ifail = mdl.alkane_grow_chain(1, 1, new_conf=0)\n",
    "\n",
    "print(\"Rosenbluth factor of original configuration : \",old_rbfactor)"
   ]
  },
  {
   "cell_type": "markdown",
   "id": "secondary-cowboy",
   "metadata": {},
   "source": [
    "Note that we don't get any information about which bead the chain was regrown from. We don't need to care."
   ]
  },
  {
   "cell_type": "code",
   "execution_count": 19,
   "id": "social-worthy",
   "metadata": {},
   "outputs": [
    {
     "name": "stdout",
     "output_type": "stream",
     "text": [
      "Rosenbluth factor of new trial configuration :  746496.0\n"
     ]
    }
   ],
   "source": [
    "# Second stage - calculate RBfactor for a new trial configuration\n",
    "new_rbfactor, ifail = mdl.alkane_grow_chain(1, 1, new_conf=1)\n",
    "model_positions = mdl.alkane_get_chain(1,1)\n",
    "\n",
    "if (ifail==0):\n",
    "    print(\"Rosenbluth factor of new trial configuration : \", new_rbfactor)\n",
    "else:\n",
    "    print(\"Failed to generate enough non-overlapping configurations at each segment.\")\n",
    "    print(\"Try increasing ktrial from its current value of \",mdl.alkane_get_ktrial()) "
   ]
  },
  {
   "cell_type": "markdown",
   "id": "recent-county",
   "metadata": {},
   "source": [
    "Visualise the old and new configurations."
   ]
  },
  {
   "cell_type": "code",
   "execution_count": 20,
   "id": "placed-domain",
   "metadata": {},
   "outputs": [
    {
     "data": {
      "application/vnd.jupyter.widget-view+json": {
       "model_id": "80e734e614234bbba5200cf6ae72bf3f",
       "version_major": 2,
       "version_minor": 0
      },
      "text/plain": [
       "HBox(children=(NGLWidget(max_frame=1), VBox(children=(Dropdown(description='Show', options=('All', 'C'), value…"
      ]
     },
     "metadata": {},
     "output_type": "display_data"
    }
   ],
   "source": [
    "chain_config = Atoms('C10', positions=model_positions*(1.5/0.4), pbc=False)\n",
    "v = view([chain_config,old_chain_config], viewer='ngl')\n",
    "v.view.clear_representations()\n",
    "v.view.add_representation('ball+stick', radius=0.3)\n",
    "v"
   ]
  },
  {
   "cell_type": "markdown",
   "id": "recreational-authority",
   "metadata": {},
   "source": [
    "It should be clear that this changes more than one dihedral angle, and so fewer moves of this kind should be required for equivalent quality sampling. However these moves require more operations than single dihedral changes, and so will take longer to execute. Finding an optimal balance between the two moves types is desirable for efficiency."
   ]
  },
  {
   "cell_type": "code",
   "execution_count": 21,
   "id": "entire-conjunction",
   "metadata": {},
   "outputs": [
    {
     "name": "stdout",
     "output_type": "stream",
     "text": [
      "Move acceptance probability is  3.456\n",
      "Move accepted\n"
     ]
    }
   ],
   "source": [
    "Pacc = new_rbfactor/old_rbfactor\n",
    "print(\"Move acceptance probability is \", Pacc)\n",
    "if (np.random.random() < Pacc):\n",
    "    print(\"Move accepted\")\n",
    "else:\n",
    "    print(\"Move rejected - restoring positions\")\n",
    "    # Restore hold chain from backup\n",
    "    model_positions = old_model_positions "
   ]
  },
  {
   "cell_type": "markdown",
   "id": "established-career",
   "metadata": {},
   "source": [
    "Running a simulation of many such moves"
   ]
  },
  {
   "cell_type": "code",
   "execution_count": 22,
   "id": "thrown-campaign",
   "metadata": {},
   "outputs": [
    {
     "data": {
      "application/vnd.jupyter.widget-view+json": {
       "model_id": "b8bb5a18d41c4e12a42bd29ac50fae3d",
       "version_major": 2,
       "version_minor": 0
      },
      "text/plain": [
       "IntProgress(value=0, max=5000)"
      ]
     },
     "metadata": {},
     "output_type": "display_data"
    },
    {
     "name": "stdout",
     "output_type": "stream",
     "text": [
      "Failed to generate enough non-overlapping configurations at each segment.\n",
      "Try increasing ktrial from its current value of  12\n",
      "Failed to generate enough non-overlapping configurations at each segment.\n",
      "Try increasing ktrial from its current value of  12\n",
      "Failed to generate enough non-overlapping configurations at each segment.\n",
      "Try increasing ktrial from its current value of  12\n",
      "Failed to generate enough non-overlapping configurations at each segment.\n",
      "Try increasing ktrial from its current value of  12\n"
     ]
    }
   ],
   "source": [
    "from ipywidgets import IntProgress\n",
    "from IPython.display import display\n",
    "\n",
    "num_moves = 5000\n",
    "\n",
    "f = IntProgress(min=0, max=num_moves) # instantiate the bar\n",
    "display(f) # display the bar\n",
    "\n",
    "samples = list()  # Samples of end-to-end distance\n",
    "frames  = list()  # Frames for visualisation\n",
    "\n",
    "for imove in range(num_moves):\n",
    "\n",
    "    # Trial move\n",
    "    old_model_positions = model_positions.copy() \n",
    "    old_rbfactor, ifail = mdl.alkane_grow_chain(1, 1, new_conf=0)\n",
    "    new_rbfactor, ifail = mdl.alkane_grow_chain(1, 1, new_conf=1)\n",
    "    model_positions = mdl.alkane_get_chain(1,1)\n",
    "    \n",
    "    if (ifail!=0):\n",
    "        print(\"Failed to generate enough non-overlapping configurations at each segment.\")\n",
    "        print(\"Try increasing ktrial from its current value of \",mdl.alkane_get_ktrial())\n",
    "    \n",
    "    Pacc = new_rbfactor/old_rbfactor   \n",
    "    if (np.random.random() >= Pacc):\n",
    "        # Reject - restore old chain from backup\n",
    "        model_positions = old_model_positions \n",
    "    \n",
    "    # Append the end-to-end distance to the list of samples\n",
    "    samples.append(end_to_end_distance(model_positions))\n",
    "    \n",
    "    # Append a new frame every 10 samples\n",
    "    if imove%10 == 0:\n",
    "        frame = Atoms(\"C10\", positions=model_positions*(1.5/0.4), pbc=False)\n",
    "        frames.append(frame)\n",
    "    \n",
    "    f.value +=1  # Increment progress bar"
   ]
  },
  {
   "cell_type": "markdown",
   "id": "independent-windsor",
   "metadata": {},
   "source": [
    "Visualise the samples as before."
   ]
  },
  {
   "cell_type": "code",
   "execution_count": 27,
   "id": "suspected-decision",
   "metadata": {},
   "outputs": [
    {
     "data": {
      "application/vnd.jupyter.widget-view+json": {
       "model_id": "6c40461f4dfa45df9fc3c88412323c2f",
       "version_major": 2,
       "version_minor": 0
      },
      "text/plain": [
       "HBox(children=(NGLWidget(max_frame=499), VBox(children=(Dropdown(description='Show', options=('All', 'C'), val…"
      ]
     },
     "metadata": {},
     "output_type": "display_data"
    }
   ],
   "source": [
    "v = view(frames, viewer='ngl')\n",
    "v.view.clear_representations()\n",
    "v.view.add_representation('ball+stick', radius=0.3)\n",
    "v"
   ]
  },
  {
   "cell_type": "code",
   "execution_count": 24,
   "id": "pleased-current",
   "metadata": {},
   "outputs": [
    {
     "data": {
      "image/png": "[encoded data removed]",
      "text/plain": [
       "<Figure size 432x288 with 1 Axes>"
      ]
     },
     "metadata": {
      "needs_background": "light"
     },
     "output_type": "display_data"
    }
   ],
   "source": [
    "plt.hist(samples)\n",
    "plt.xlabel('End-to-end distance / sigma')\n",
    "plt.ylabel('Frequency')\n",
    "plt.show()"
   ]
  },
  {
   "cell_type": "markdown",
   "id": "innocent-spray",
   "metadata": {},
   "source": [
    "It's instructive to compare the autocorrelation of the two data sets."
   ]
  },
  {
   "cell_type": "code",
   "execution_count": 25,
   "id": "sapphire-baking",
   "metadata": {},
   "outputs": [
    {
     "name": "stderr",
     "output_type": "stream",
     "text": [
      "/Users/phseal/Library/Python/3.8/lib/python/site-packages/statsmodels/tsa/stattools.py:667: FutureWarning: fft=True will become the default after the release of the 0.12 release of statsmodels. To suppress this warning, explicitly set fft=False.\n",
      "  warnings.warn(\n"
     ]
    },
    {
     "data": {
      "image/png": "[encoded data removed]",
      "text/plain": [
       "<Figure size 432x288 with 1 Axes>"
      ]
     },
     "metadata": {
      "needs_background": "light"
     },
     "output_type": "display_data"
    }
   ],
   "source": [
    "cbmc_acf=acf(samples, nlags=Nlags-1)\n",
    "\n",
    "plt.xlabel('Samples')\n",
    "plt.ylabel('ACF')\n",
    "plt.plot(simple_acf, label='Dihedral moves')\n",
    "plt.plot(cbmc_acf, label='CBMC moves' )\n",
    "plt.legend(loc = 'upper right')\n",
    "plt.xlim(0,25)\n",
    "plt.ylim(0,1)\n",
    "plt.show()"
   ]
  },
  {
   "cell_type": "markdown",
   "id": "accepted-weather",
   "metadata": {},
   "source": [
    "This shows what we expect - fewer CBMC moves are needed to produce samples decorrelated from a given previous sample. For these moves we can sub-sample at an interval of 7 moves and get a similarly decorrelated sample set to sub-sampling the dihedral moves at an interval of 100 moves."
   ]
  },
  {
   "cell_type": "code",
   "execution_count": 26,
   "id": "approximate-manitoba",
   "metadata": {},
   "outputs": [
    {
     "name": "stdout",
     "output_type": "stream",
     "text": [
      "Mean end-to-end distance : 2.36 +/- 0.01\n"
     ]
    }
   ],
   "source": [
    "# Mean and standard error of the end-to-end distance to 3 dp\n",
    "subsamples=samples[::7]\n",
    "mean_ee = statistics.mean(subsamples)\n",
    "stderr_ee = statistics.stdev(subsamples)/m.sqrt(len(subsamples))\n",
    "\n",
    "print(\"Mean end-to-end distance :\",round(mean_ee,2),\"+/-\",round(stderr_ee,2))"
   ]
  },
  {
   "cell_type": "markdown",
   "id": "boolean-history",
   "metadata": {},
   "source": [
    "This is a more precise measurement of the average for the same number of MC moves due to the fact that we have more _independent_ samples."
   ]
  }
 ],
 "metadata": {
  "kernelspec": {
   "display_name": "Python 3",
   "language": "python",
   "name": "python3"
  },
  "language_info": {
   "codemirror_mode": {
    "name": "ipython",
    "version": 3
   },
   "file_extension": ".py",
   "mimetype": "text/x-python",
   "name": "python",
   "nbconvert_exporter": "python",
   "pygments_lexer": "ipython3",
   "version": "3.8.7"
  }
 },
 "nbformat": 4,
 "nbformat_minor": 5
}
