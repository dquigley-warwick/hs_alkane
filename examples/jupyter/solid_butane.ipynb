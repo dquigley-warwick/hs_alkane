{
 "cells": [
  {
   "cell_type": "code",
   "execution_count": 1,
   "id": "logical-seven",
   "metadata": {},
   "outputs": [],
   "source": [
    "# Uses the current state of the alkane model to construct an ASE atoms object\n",
    "# for visualisation purposes.\n",
    "def mk_ase_config(ibox, Nbeads, Nchains):\n",
    "    \n",
    "    # Create and populate ASE object\n",
    "    model_positions = np.empty([Nchains*Nbeads, 3])\n",
    "    cell_vectors = mdl.box_get_cell(ibox)\n",
    "    displace = 0.5*(cell_vectors[0]+cell_vectors[1]+cell_vectors[2])\n",
    "    \n",
    "    for ichain in range(0, Nchains):\n",
    "        model_positions[Nbeads*ichain:Nbeads*ichain+Nbeads] = mdl.alkane_get_chain(ichain+1, ibox)\n",
    "\n",
    "    for iatom in range(0,Nbeads*Nchains):\n",
    "        model_positions[iatom] = model_positions[iatom] + displace\n",
    "    \n",
    "    confstring = \"C\"+str(Nbeads*Nchains)\n",
    "    \n",
    "    box_config = Atoms(confstring, positions=model_positions*(1.5/0.4), pbc=True, cell=cell_vectors*(1.5/0.4)) \n",
    "\n",
    "    return box_config\n",
    "    \n",
    "# Takes an ASE atoms object or list thereof and creates a customised ngl viewer\n",
    "# with appropriate settings for our bulk alkane chain models\n",
    "def vis_chains(vis_config):\n",
    "    \n",
    "    met = 0.35\n",
    "    rad = 0.8\n",
    "    \n",
    "    colours = ['#FF1111','#FFAAAA', '#DDDDDD', '#1111FF', '#AAAAFF']\n",
    "    ncols = len(colours)\n",
    "    \n",
    "    sel=list()\n",
    "    for icol in range(ncols):\n",
    "        sel.append(list())\n",
    "    \n",
    "    # Create lists for each colour\n",
    "    for ichain in range(0, Nchains):\n",
    "        icol = ichain%ncols\n",
    "        for ibead in range(Nbeads):\n",
    "            iatom = ichain*Nbeads + ibead\n",
    "            sel[icol].append(iatom)\n",
    "            \n",
    "    v = view(vis_config, viewer='ngl')                   \n",
    "    v.view.clear_representations()\n",
    "    v.view.add_representation('unitcell', color='#000000')\n",
    "    \n",
    "    for icol in range(ncols):\n",
    "        v.view.add_representation('ball+stick', selection=sel[icol], color=colours[icol], radius=rad, metalness=met)\n",
    "\n",
    "    return v"
   ]
  },
  {
   "cell_type": "code",
   "execution_count": 2,
   "id": "cutting-origin",
   "metadata": {},
   "outputs": [],
   "source": [
    "import numpy as np  # Numpy\n",
    "import math as m    # Maths\n",
    "\n",
    "import hs_alkane.alkane as mdl   # Fortran library we'll used to model the alkane chain"
   ]
  },
  {
   "cell_type": "code",
   "execution_count": 3,
   "id": "neural-click",
   "metadata": {},
   "outputs": [],
   "source": [
    "Nbeads  = 4    # Butane\n",
    "Nchains = 250  # 250 chains in chain.xmol\n",
    "\n",
    "# Initialise the simulation box and alkane module ready to hold chains\n",
    "mdl.box_initialise()             \n",
    "mdl.alkane_set_nbeads(Nbeads)    \n",
    "mdl.alkane_set_nchains(Nchains)  \n",
    "mdl.alkane_initialise()          \n",
    "\n",
    "# Read from chain.xmol\n",
    "mdl.io_read_xmol()               # Read from chain.xmol"
   ]
  },
  {
   "cell_type": "code",
   "execution_count": 4,
   "id": "healthy-dance",
   "metadata": {},
   "outputs": [
    {
     "data": {
      "application/vnd.jupyter.widget-view+json": {
       "model_id": "d11ae00ce8be44449671bcaf44eae917",
       "version_major": 2,
       "version_minor": 0
      },
      "text/plain": []
     },
     "metadata": {},
     "output_type": "display_data"
    },
    {
     "data": {
      "application/vnd.jupyter.widget-view+json": {
       "model_id": "69fff42ff9a44ccbb00029b129e43cdc",
       "version_major": 2,
       "version_minor": 0
      },
      "text/plain": [
       "HBox(children=(NGLWidget(), VBox(children=(Dropdown(description='Show', options=('All', 'C'), value='All'), Dr…"
      ]
     },
     "metadata": {},
     "output_type": "display_data"
    }
   ],
   "source": [
    "from ase import Atoms\n",
    "from ase.visualize import view\n",
    "\n",
    "ase_config = mk_ase_config(1, Nbeads, Nchains)\n",
    "vis_chains(ase_config)"
   ]
  },
  {
   "cell_type": "markdown",
   "id": "comparable-burning",
   "metadata": {},
   "source": [
    "### Sanity check initial configuration"
   ]
  },
  {
   "cell_type": "code",
   "execution_count": 5,
   "id": "bearing-superintendent",
   "metadata": {},
   "outputs": [
    {
     "name": "stdout",
     "output_type": "stream",
     "text": [
      "No overlaps between chains found in configuration\n"
     ]
    }
   ],
   "source": [
    "# Loop over chains and sanity check configuration\n",
    "ibox = 1\n",
    "for ichain in range(0, Nchains):\n",
    "    \n",
    "    # Checks if internal geometry of chain (bonds/angles) are consistent with the model\n",
    "    geom_flag = mdl.alkane_check_chain_geometry(ichain+1, ibox)\n",
    "    if geom_flag != 0:\n",
    "        print(\"Incorrect geometry for chain \",ichain)\n",
    "       \n",
    "    \n",
    "# Checks if beads on any two chains overlap\n",
    "overlap_flag = mdl.alkane_check_chain_overlap(ibox)\n",
    "if overlap_flag != 0:\n",
    "    print(\"Overlaps between chains in configuration\")\n",
    "else:\n",
    "    print(\"No overlaps between chains found in configuration\")\n",
    "    "
   ]
  },
  {
   "cell_type": "markdown",
   "id": "varying-function",
   "metadata": {},
   "source": [
    "### Adjust density of initial configuration and visualise"
   ]
  },
  {
   "cell_type": "code",
   "execution_count": 6,
   "id": "accessory-desert",
   "metadata": {},
   "outputs": [
    {
     "data": {
      "application/vnd.jupyter.widget-view+json": {
       "model_id": "6d0b224f3b5f49f9b5b2af62b6f0ccfb",
       "version_major": 2,
       "version_minor": 0
      },
      "text/plain": [
       "HBox(children=(NGLWidget(), VBox(children=(Dropdown(description='Show', options=('All', 'C'), value='All'), Dr…"
      ]
     },
     "metadata": {},
     "output_type": "display_data"
    }
   ],
   "source": [
    "# Scale the simulation box isotropically by 110%. Chain positions (first bead) scale with the box\n",
    "mdl.alkane_box_scale(ibox, 1.1, 1.1, 1.1)\n",
    "\n",
    "ase_config = mk_ase_config(1, Nbeads, Nchains)\n",
    "vis_chains(ase_config)"
   ]
  },
  {
   "cell_type": "code",
   "execution_count": 7,
   "id": "infinite-prime",
   "metadata": {},
   "outputs": [],
   "source": [
    "# Put this back how it was\n",
    "mdl.alkane_box_scale(ibox, 1.0/1.1, 1.0/1.1, 1.0/1.1)"
   ]
  },
  {
   "cell_type": "code",
   "execution_count": 8,
   "id": "careful-bobby",
   "metadata": {},
   "outputs": [
    {
     "name": "stdout",
     "output_type": "stream",
     "text": [
      "Overlaps between chains in configuration\n"
     ]
    },
    {
     "data": {
      "application/vnd.jupyter.widget-view+json": {
       "model_id": "234de8fe53744542b3504fccd68a0947",
       "version_major": 2,
       "version_minor": 0
      },
      "text/plain": [
       "HBox(children=(NGLWidget(), VBox(children=(Dropdown(description='Show', options=('All', 'C'), value='All'), Dr…"
      ]
     },
     "metadata": {},
     "output_type": "display_data"
    }
   ],
   "source": [
    "# Try compressing too far\n",
    "mdl.alkane_box_scale(ibox, 0.8, 0.8, 0.8)\n",
    "\n",
    "# Checks if beads on any two chains overlap\n",
    "overlap_flag = mdl.alkane_check_chain_overlap(ibox)\n",
    "if overlap_flag != 0:\n",
    "    print(\"Overlaps between chains in configuration\")\n",
    "else:\n",
    "    print(\"No overlaps between chains found in configuration\")\n",
    "\n",
    "ase_config = mk_ase_config(1, Nbeads, Nchains)\n",
    "vis_chains(ase_config)"
   ]
  },
  {
   "cell_type": "code",
   "execution_count": 9,
   "id": "reserved-ottawa",
   "metadata": {},
   "outputs": [],
   "source": [
    "# Put this back how it was\n",
    "mdl.alkane_box_scale(ibox, 1.0/0.8, 1.0/0.8, 1.0/0.8)"
   ]
  },
  {
   "cell_type": "code",
   "execution_count": 10,
   "id": "considerable-techno",
   "metadata": {},
   "outputs": [
    {
     "data": {
      "text/plain": [
       "array([[  7.120546,   0.      ,   0.      ],\n",
       "       [  1.584668,   7.85993 ,   0.      ],\n",
       "       [ -1.815922,   2.549568, -10.042803]])"
      ]
     },
     "execution_count": 10,
     "metadata": {},
     "output_type": "execute_result"
    }
   ],
   "source": [
    "mdl.box_get_cell(ibox)"
   ]
  },
  {
   "cell_type": "code",
   "execution_count": 11,
   "id": "excellent-stewart",
   "metadata": {},
   "outputs": [],
   "source": [
    "delta_cell = np.array([[5.0, 0.0, 0.0], [0.0, 0.0, 0.0], [0.0, 0.0, 0.0]])"
   ]
  },
  {
   "cell_type": "code",
   "execution_count": 12,
   "id": "decreased-stockholm",
   "metadata": {},
   "outputs": [],
   "source": [
    "mdl.alkane_change_box(ibox,delta_cell)"
   ]
  },
  {
   "cell_type": "code",
   "execution_count": 13,
   "id": "variable-commons",
   "metadata": {},
   "outputs": [
    {
     "data": {
      "text/plain": [
       "array([[ 12.120546,   0.      ,   0.      ],\n",
       "       [  1.584668,   7.85993 ,   0.      ],\n",
       "       [ -1.815922,   2.549568, -10.042803]])"
      ]
     },
     "execution_count": 13,
     "metadata": {},
     "output_type": "execute_result"
    }
   ],
   "source": [
    "mdl.box_get_cell(ibox)"
   ]
  },
  {
   "cell_type": "code",
   "execution_count": 14,
   "id": "annual-clark",
   "metadata": {},
   "outputs": [
    {
     "data": {
      "application/vnd.jupyter.widget-view+json": {
       "model_id": "d288b98a9a1f44cd854c238e6c57fc54",
       "version_major": 2,
       "version_minor": 0
      },
      "text/plain": [
       "HBox(children=(NGLWidget(), VBox(children=(Dropdown(description='Show', options=('All', 'C'), value='All'), Dr…"
      ]
     },
     "metadata": {},
     "output_type": "display_data"
    }
   ],
   "source": [
    "ase_config = mk_ase_config(1, Nbeads, Nchains)\n",
    "vis_chains(ase_config)"
   ]
  },
  {
   "cell_type": "code",
   "execution_count": 15,
   "id": "former-marble",
   "metadata": {},
   "outputs": [],
   "source": [
    "mdl.alkane_change_box(ibox,-delta_cell)"
   ]
  },
  {
   "cell_type": "markdown",
   "id": "organizational-campaign",
   "metadata": {},
   "source": [
    "## Monte Carlo loop"
   ]
  },
  {
   "cell_type": "code",
   "execution_count": 23,
   "id": "reserved-secretary",
   "metadata": {},
   "outputs": [],
   "source": [
    "# Reset\n",
    "mdl.box_initialise()       \n",
    "mdl.alkane_set_nbeads(Nbeads)    \n",
    "mdl.alkane_set_nchains(Nchains)        \n",
    "mdl.alkane_initialise()          \n",
    "\n",
    "# Read from chain.xmol\n",
    "mdl.io_read_xmol()               # Read from chain.xmol"
   ]
  },
  {
   "cell_type": "code",
   "execution_count": 24,
   "id": "unsigned-christmas",
   "metadata": {},
   "outputs": [],
   "source": [
    "mdl.alkane_get_dr_max()\n",
    "mdl.alkane_set_dr_max(0.0001)"
   ]
  },
  {
   "cell_type": "code",
   "execution_count": 25,
   "id": "sufficient-genealogy",
   "metadata": {},
   "outputs": [
    {
     "data": {
      "application/vnd.jupyter.widget-view+json": {
       "model_id": "1edbdd1ae15446e29940767bd0f4e6b0",
       "version_major": 2,
       "version_minor": 0
      },
      "text/plain": [
       "HBox(children=(NGLWidget(), VBox(children=(Dropdown(description='Show', options=('All', 'C'), value='All'), Dr…"
      ]
     },
     "metadata": {},
     "output_type": "display_data"
    }
   ],
   "source": [
    "ase_config = mk_ase_config(1, Nbeads, Nchains)\n",
    "vis_chains(ase_config)"
   ]
  },
  {
   "cell_type": "code",
   "execution_count": 26,
   "id": "german-myanmar",
   "metadata": {},
   "outputs": [
    {
     "name": "stdout",
     "output_type": "stream",
     "text": [
      "Accepted  46.876 % of attempted chain translation moves\n"
     ]
    }
   ],
   "source": [
    "Nsweeps = 100\n",
    "isweep = 0\n",
    "\n",
    "num_acc_trans = 0\n",
    "num_att_trans = 0\n",
    "\n",
    "while isweep < Nsweeps:\n",
    "\n",
    "    # One move per degree of freedom at each sweep. Here we only\n",
    "    # have translations so Nchains moves per sweep\n",
    "    imove = 0\n",
    "    while imove < Nchains:\n",
    "\n",
    "        # Pick a random chain numbered from 0 to Nchains\n",
    "        ichain = np.random.randint(0, high=Nchains)\n",
    "\n",
    "        # Backup old chain positions\n",
    "        current_chain = mdl.alkane_get_chain(ichain+1, ibox)\n",
    "        backup_chain = current_chain.copy()\n",
    "\n",
    "        # Attempt a Monte Carlo move\n",
    "        num_att_trans += 1\n",
    "        boltz = mdl.alkane_translate_chain(ichain+1,ibox)\n",
    "        \n",
    "        # Reject according to Metropolis criterion\n",
    "        if (np.random.random() < boltz):\n",
    "            # Move accepted\n",
    "            num_acc_trans += 1\n",
    "        else:\n",
    "            # Reject move\n",
    "            #current_chain = [backup_chain[ibead] for ibead in range(Nbeads)]\n",
    "            for ibead in range(Nbeads):\n",
    "                current_chain[ibead] = backup_chain[ibead]\n",
    "            \n",
    "\n",
    "        imove += 1\n",
    "            \n",
    "    isweep += 1\n",
    "    \n",
    "frac_acc_trans = num_acc_trans/num_att_trans\n",
    "print(\"Accepted \",100*frac_acc_trans,\"% of attempted chain translation moves\")\n",
    "    "
   ]
  },
  {
   "cell_type": "code",
   "execution_count": 27,
   "id": "injured-commission",
   "metadata": {},
   "outputs": [
    {
     "data": {
      "application/vnd.jupyter.widget-view+json": {
       "model_id": "93ba525ba0854e13af25853d28a1dcff",
       "version_major": 2,
       "version_minor": 0
      },
      "text/plain": [
       "HBox(children=(NGLWidget(), VBox(children=(Dropdown(description='Show', options=('All', 'C'), value='All'), Dr…"
      ]
     },
     "metadata": {},
     "output_type": "display_data"
    }
   ],
   "source": [
    "ase_config = mk_ase_config(1, Nbeads, Nchains)\n",
    "vis_chains(ase_config)"
   ]
  },
  {
   "cell_type": "code",
   "execution_count": 22,
   "id": "adjustable-knowing",
   "metadata": {},
   "outputs": [
    {
     "name": "stdout",
     "output_type": "stream",
     "text": [
      "No overlaps between chains found in configuration\n"
     ]
    }
   ],
   "source": [
    "# Checks if beads on any two chains overlap\n",
    "overlap_flag = mdl.alkane_check_chain_overlap(ibox)\n",
    "if overlap_flag != 0:\n",
    "    print(\"Overlaps between chains in configuration\")\n",
    "else:\n",
    "    print(\"No overlaps between chains found in configuration\")"
   ]
  },
  {
   "cell_type": "code",
   "execution_count": null,
   "id": "controlling-alloy",
   "metadata": {},
   "outputs": [],
   "source": []
  }
 ],
 "metadata": {
  "kernelspec": {
   "display_name": "Python 3",
   "language": "python",
   "name": "python3"
  },
  "language_info": {
   "codemirror_mode": {
    "name": "ipython",
    "version": 3
   },
   "file_extension": ".py",
   "mimetype": "text/x-python",
   "name": "python",
   "nbconvert_exporter": "python",
   "pygments_lexer": "ipython3",
   "version": "3.8.7"
  }
 },
 "nbformat": 4,
 "nbformat_minor": 5
}
