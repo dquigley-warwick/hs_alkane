{
 "cells": [
  {
   "cell_type": "code",
   "execution_count": 2,
   "id": "logical-seven",
   "metadata": {},
   "outputs": [],
   "source": [
    "def colourIn2(v, colours, Nbeads, Nchains):\n",
    "    \n",
    "    met = 0.35\n",
    "    rad = 0.8\n",
    "    \n",
    "    ncols = len(colours)\n",
    "    \n",
    "    sel=list()\n",
    "    for icol in range(ncols):\n",
    "        sel.append(list())\n",
    "    \n",
    "    # Create lists for each colour\n",
    "    for ichain in range(0, Nchains):\n",
    "        icol = ichain%ncols\n",
    "        #print(\"Chain \",ichain,\" coloured \", icol)\n",
    "        for ibead in range(Nbeads):\n",
    "            iatom = ichain*Nbeads + ibead\n",
    "            sel[icol].append(iatom)\n",
    "                \n",
    "    v.view.clear_representations()\n",
    "    v.view.add_representation('unitcell', color='#000000')\n",
    "    \n",
    "    for icol in range(ncols):\n",
    "        v.view.add_representation('ball+stick', selection=sel[icol], color=colours[icol], radius=rad, metalness=met)\n",
    "        \n",
    "    return v"
   ]
  },
  {
   "cell_type": "code",
   "execution_count": 3,
   "id": "cutting-origin",
   "metadata": {},
   "outputs": [],
   "source": [
    "import numpy as np  # Numpy\n",
    "import math as m    # Maths\n",
    "\n",
    "import hs_alkane.alkane as mdl   # Fortran library we'll used to model the alkane chain"
   ]
  },
  {
   "cell_type": "code",
   "execution_count": 4,
   "id": "neural-click",
   "metadata": {},
   "outputs": [],
   "source": [
    "Nbeads  = 4    # Butane\n",
    "Nchains = 250  # 250 chains in chain.xmol\n",
    "\n",
    "# Initialise the simulation box and alkane module ready to hold chains\n",
    "mdl.box_initialise()             \n",
    "mdl.alkane_set_nbeads(Nbeads)    \n",
    "mdl.alkane_set_nchains(Nchains)  \n",
    "mdl.alkane_initialise()          \n",
    "\n",
    "# Read from chain.xmol\n",
    "mdl.io_read_xmol()               # Read from chain.xmol"
   ]
  },
  {
   "cell_type": "code",
   "execution_count": 5,
   "id": "healthy-dance",
   "metadata": {},
   "outputs": [],
   "source": [
    "from ase import Atoms\n",
    "\n",
    "# Create and populate ASE object\n",
    "model_positions = np.empty([Nchains*Nbeads, 3])\n",
    "ibox = 1\n",
    "cell_vectors = mdl.box_get_cell(ibox)\n",
    "displace = 0.5*(cell_vectors[0]+cell_vectors[1]+cell_vectors[2])\n",
    "\n",
    "for ichain in range(0, Nchains):\n",
    "    model_positions[Nbeads*ichain:Nbeads*ichain+Nbeads] = mdl.alkane_get_chain(ichain+1, ibox)\n",
    "\n",
    "for iatom in range(0,Nbeads*Nchains):\n",
    "    model_positions[iatom] = model_positions[iatom] + displace\n",
    "    \n",
    "\n",
    "box_config = Atoms('C1000', positions=model_positions*(1.5/0.4), pbc=True, cell=cell_vectors*(1.5/0.4))"
   ]
  },
  {
   "cell_type": "code",
   "execution_count": 6,
   "id": "otherwise-reserve",
   "metadata": {
    "scrolled": true
   },
   "outputs": [
    {
     "data": {
      "application/vnd.jupyter.widget-view+json": {
       "model_id": "82d5662c5c8b40a890211ee91f0eb3e3",
       "version_major": 2,
       "version_minor": 0
      },
      "text/plain": []
     },
     "metadata": {},
     "output_type": "display_data"
    },
    {
     "data": {
      "application/vnd.jupyter.widget-view+json": {
       "model_id": "c714c7ee98a148feab51d287caa90be4",
       "version_major": 2,
       "version_minor": 0
      },
      "text/plain": [
       "HBox(children=(NGLWidget(), VBox(children=(Dropdown(description='Show', options=('All', 'C'), value='All'), Dr…"
      ]
     },
     "metadata": {},
     "output_type": "display_data"
    }
   ],
   "source": [
    "from ase.visualize import view\n",
    "\n",
    "v = view(box_config, viewer='ngl')\n",
    "colours = ['#FF1111','#FFAAAA', '#DDDDDD', '#1111FF', '#AAAAFF']\n",
    "v = colourIn2(v, colours, Nbeads, Nchains )\n",
    "v"
   ]
  },
  {
   "cell_type": "code",
   "execution_count": null,
   "id": "strange-collect",
   "metadata": {},
   "outputs": [],
   "source": []
  },
  {
   "cell_type": "code",
   "execution_count": null,
   "id": "bearing-superintendent",
   "metadata": {},
   "outputs": [],
   "source": []
  },
  {
   "cell_type": "code",
   "execution_count": null,
   "id": "relative-adaptation",
   "metadata": {},
   "outputs": [],
   "source": []
  }
 ],
 "metadata": {
  "kernelspec": {
   "display_name": "Python 3",
   "language": "python",
   "name": "python3"
  },
  "language_info": {
   "codemirror_mode": {
    "name": "ipython",
    "version": 3
   },
   "file_extension": ".py",
   "mimetype": "text/x-python",
   "name": "python",
   "nbconvert_exporter": "python",
   "pygments_lexer": "ipython3",
   "version": "3.8.7"
  }
 },
 "nbformat": 4,
 "nbformat_minor": 5
}
