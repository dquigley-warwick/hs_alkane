{
 "cells": [
  {
   "cell_type": "markdown",
   "id": "requested-turkey",
   "metadata": {},
   "source": [
    "# Simulation of liquid butane"
   ]
  },
  {
   "cell_type": "markdown",
   "id": "absolute-excuse",
   "metadata": {},
   "source": [
    "## Preliminaries\n",
    "\n",
    "Import the Python packages we'll need, and initialise a simulation of a single alkane chain with 250 chains and 4 beads per chain (butane). By default we create only a single replica with index 1. Note that because the model code is written in Fortran internally, replicas, chains and bead indices are 1-based not zero-based. "
   ]
  },
  {
   "cell_type": "code",
   "execution_count": 1,
   "id": "southern-surname",
   "metadata": {},
   "outputs": [],
   "source": [
    "import numpy as np  # Numpy\n",
    "import math as m    # Maths\n",
    "\n",
    "import hs_alkane.alkane as mdl   # Fortran library we'll used to model the alkane chain"
   ]
  },
  {
   "cell_type": "code",
   "execution_count": 2,
   "id": "ranging-works",
   "metadata": {},
   "outputs": [],
   "source": [
    "Nbeads  = 4    # Butane\n",
    "Nchains = 250  # 250 chains in chain.xmol\n",
    "\n",
    "# Initialise the simulation box and alkane module ready to hold chains\n",
    "mdl.box_initialise()             \n",
    "mdl.alkane_set_nbeads(Nbeads)    \n",
    "mdl.alkane_set_nchains(Nchains)  \n",
    "mdl.alkane_initialise() "
   ]
  },
  {
   "cell_type": "markdown",
   "id": "nutritional-indian",
   "metadata": {},
   "source": [
    "## Visualisation functions\n",
    "\n",
    "These are handy for creating visualisations of the system configuration via the ASE ngl viewer. Some bashing of units and colourscheme is needed to get useful output."
   ]
  },
  {
   "cell_type": "code",
   "execution_count": 3,
   "id": "logical-seven",
   "metadata": {},
   "outputs": [],
   "source": [
    "from ase import Atoms\n",
    "from ase.visualize import view\n",
    "\n",
    "def mk_ase_config(ibox, Nbeads, Nchains):\n",
    "    'Uses the current state of the alkane model to construct an ASE atoms object'\n",
    "    \n",
    "    # Create and populate ASE object\n",
    "    model_positions = np.empty([Nchains*Nbeads, 3])\n",
    "    cell_vectors = mdl.box_get_cell(ibox)\n",
    "   \n",
    "    for ichain in range(0, Nchains):\n",
    "        model_positions[Nbeads*ichain:Nbeads*ichain+Nbeads] = mdl.alkane_get_chain(ichain+1, ibox)\n",
    "    \n",
    "    confstring = \"C\"+str(Nbeads*Nchains)\n",
    "    \n",
    "    box_config = Atoms(confstring, positions=model_positions*(1.5/0.4), pbc=True, cell=cell_vectors*(1.5/0.4)) \n",
    "\n",
    "    # If we want to wrap all beads inside the box\n",
    "    box_config.wrap()\n",
    "    \n",
    "    return box_config  # Returns ASE atom object\n",
    "    \n",
    "def vis_chains(vis_config):\n",
    "    '''Takes an ASE atoms object or list thereof and creates a customised ngl viewer \n",
    "       with appropriate settings for our bulk alkane chain models'''\n",
    "    \n",
    "    met = 0.35\n",
    "    rad = 1.0\n",
    "    \n",
    "    colours = ['#FF1111','#FFAAAA', '#DDDDDD', '#1111FF', '#AAAAFF']\n",
    "    ncols = len(colours)\n",
    "    \n",
    "    sel=list()\n",
    "    for icol in range(ncols):\n",
    "        sel.append(list())\n",
    "    \n",
    "    # Create lists for each colour\n",
    "    for ichain in range(0, Nchains):\n",
    "        icol = ichain%ncols\n",
    "        for ibead in range(Nbeads):\n",
    "            iatom = ichain*Nbeads + ibead\n",
    "            sel[icol].append(iatom)\n",
    "            \n",
    "    v = view(vis_config, viewer='ngl')                   \n",
    "    v.view.clear_representations()\n",
    "    v.view.add_representation('unitcell', color='#000000')\n",
    "    \n",
    "    for icol in range(ncols):\n",
    "        v.view.add_representation('ball+stick', selection=sel[icol], color=colours[icol], radius=rad, metalness=met)\n",
    "\n",
    "    return v"
   ]
  },
  {
   "cell_type": "markdown",
   "id": "chronic-biology",
   "metadata": {},
   "source": [
    "## Generate random initial configuration"
   ]
  },
  {
   "cell_type": "markdown",
   "id": "technological-sunrise",
   "metadata": {},
   "source": [
    "This is a bit of a cludge and should probably be replaced with a routine in inside the library."
   ]
  },
  {
   "cell_type": "code",
   "execution_count": 4,
   "id": "neural-click",
   "metadata": {},
   "outputs": [],
   "source": [
    "boxsize = 15.0  # Initial size of cubic box\n",
    "ibox = 1\n",
    "cell_vectors = np.array([[boxsize,0.0,0.0],[0.0,boxsize,0.0],[0.0,0.0,boxsize]])\n",
    "mdl.box_set_cell(ibox, cell_vectors)\n",
    "\n",
    "# Don't use link cells when making new chains\n",
    "mdl.box_set_bypass_link_cells(1)\n",
    "mdl.box_set_use_verlet_list(0)\n",
    "\n",
    "ncopy = Nchains\n",
    "for ichain in range(ncopy):\n",
    "    mdl.alkane_set_nchains(ichain+1)  # Only calculate using this and previous chains\n",
    "    rb_factor = 0.0\n",
    "    while rb_factor < 0.001:\n",
    "        rb_factor, ifail = mdl.alkane_grow_chain(ichain+1, ibox, new_conf=1)\n",
    "        if ifail!=0:\n",
    "            rb_factor = 0.0\n",
    "        \n",
    "        \n",
    "# By default we have periodic boundary conditions, and the example below benefits from using link cells\n",
    "# to speed up computation. These can be disabled (and will be automatically if the system is too small for them)\n",
    "# or we can specify that we want to use a Verlet neighbour list instead. If using the neighbour list then we \n",
    "# need to make sure if is updated appropriately after moving beads around.\n",
    "\n",
    "#mdl.box_set_use_verlet_list(1)        \n",
    "mdl.box_set_link_cell_length(1.5)\n",
    "mdl.box_set_bypass_link_cells(0)\n",
    "mdl.box_construct_link_cells(ibox)\n",
    "mdl.alkane_construct_linked_lists(ibox)"
   ]
  },
  {
   "cell_type": "code",
   "execution_count": 5,
   "id": "healthy-dance",
   "metadata": {
    "scrolled": false
   },
   "outputs": [
    {
     "data": {
      "application/vnd.jupyter.widget-view+json": {
       "model_id": "3d4fcc55d5d84b888a2b3504d5f723af",
       "version_major": 2,
       "version_minor": 0
      },
      "text/plain": []
     },
     "metadata": {},
     "output_type": "display_data"
    },
    {
     "data": {
      "application/vnd.jupyter.widget-view+json": {
       "model_id": "e7707b4ba92145989a47d931d532f81e",
       "version_major": 2,
       "version_minor": 0
      },
      "text/plain": [
       "HBox(children=(NGLWidget(), VBox(children=(Dropdown(description='Show', options=('All', 'C'), value='All'), Dr…"
      ]
     },
     "metadata": {},
     "output_type": "display_data"
    }
   ],
   "source": [
    "# Visualise initial configuration\n",
    "ase_config = mk_ase_config(1, Nbeads, Nchains)\n",
    "vis_chains(ase_config)"
   ]
  },
  {
   "cell_type": "markdown",
   "id": "comparable-burning",
   "metadata": {},
   "source": [
    "### Sanity check initial configuration\n",
    "\n",
    "Functions are provided to check that the configuration obeys the model constraints on bond lengths/angles and doesn't contain any forbidden dihedral angles. We also check that no beads overlap, other than those which are allowed to in the model, e.g. first and second nearest neighbours along a chain."
   ]
  },
  {
   "cell_type": "code",
   "execution_count": 6,
   "id": "bearing-superintendent",
   "metadata": {},
   "outputs": [
    {
     "name": "stdout",
     "output_type": "stream",
     "text": [
      "No overlaps between chains found in configuration\n"
     ]
    }
   ],
   "source": [
    "# Loop over chains and sanity check configuration\n",
    "ibox = 1\n",
    "for ichain in range(0, Nchains):\n",
    "    \n",
    "    # Checks if internal geometry of chain (bonds/angles) are consistent with the model\n",
    "    geom_flag = mdl.alkane_check_chain_geometry(ichain+1, ibox)\n",
    "    if geom_flag != 0:\n",
    "        print(\"Incorrect geometry for chain \",ichain)\n",
    "       \n",
    "    \n",
    "# Checks if beads on any two chains overlap\n",
    "overlap_flag = mdl.alkane_check_chain_overlap(ibox)\n",
    "if overlap_flag != 0:\n",
    "    print(\"Overlaps between chains in configuration\")\n",
    "else:\n",
    "    print(\"No overlaps between chains found in configuration\")  "
   ]
  },
  {
   "cell_type": "markdown",
   "id": "welcome-hollywood",
   "metadata": {},
   "source": [
    "## Monte Carlo loop\n",
    "\n",
    "Example NPT simulation with anisotropic box moves. First query the maximum changes made when we ask the model to make one of the various trial move types. We will use translation, rotation, dihedral and box moves."
   ]
  },
  {
   "cell_type": "code",
   "execution_count": 7,
   "id": "unable-portal",
   "metadata": {},
   "outputs": [
    {
     "name": "stdout",
     "output_type": "stream",
     "text": [
      "Maximum translation displacement: 0.012\n",
      "Maximum rotation angle:  0.07\n",
      "Maximum dihedral change:  0.06\n",
      "Maximum cell vector displacement:  0.003\n"
     ]
    }
   ],
   "source": [
    "# Report move parameters\n",
    "print(\"Maximum translation displacement:\", mdl.alkane_get_dr_max())\n",
    "print(\"Maximum rotation angle: \", mdl.alkane_get_dt_max())\n",
    "print(\"Maximum dihedral change: \", mdl.alkane_get_dh_max())\n",
    "print(\"Maximum cell vector displacement: \",mdl.alkane_get_dv_max())"
   ]
  },
  {
   "cell_type": "markdown",
   "id": "proud-transfer",
   "metadata": {},
   "source": [
    "These defaults are intended for simulating a crystal. They will result in nearly all moves being accepted in our low density random configuration, so we'll make them bigger. We also want to make isotropic volume moves rather than changes in random components of a cell vector."
   ]
  },
  {
   "cell_type": "code",
   "execution_count": 8,
   "id": "median-savannah",
   "metadata": {},
   "outputs": [],
   "source": [
    "mdl.alkane_set_dr_max(0.65)\n",
    "mdl.alkane_set_dt_max(0.43)\n",
    "mdl.alkane_set_dh_max(0.4)\n",
    "\n",
    "mdl.box_set_isotropic(1)\n",
    "mdl.alkane_set_dv_max(0.5)"
   ]
  },
  {
   "cell_type": "markdown",
   "id": "christian-prediction",
   "metadata": {},
   "source": [
    "The following code implements a simple NPT simulation using these moves."
   ]
  },
  {
   "cell_type": "code",
   "execution_count": 9,
   "id": "foster-montgomery",
   "metadata": {},
   "outputs": [
    {
     "data": {
      "application/vnd.jupyter.widget-view+json": {
       "model_id": "92b4bb806c5b454b87ed359a861acc56",
       "version_major": 2,
       "version_minor": 0
      },
      "text/plain": [
       "IntProgress(value=0, max=5000)"
      ]
     },
     "metadata": {},
     "output_type": "display_data"
    },
    {
     "name": "stdout",
     "output_type": "stream",
     "text": [
      "Completed  5000  sweeps in  79.83299999999872  seconds.\n",
      "Accepted  97.88065240746167  % of  box  moves\n",
      "Accepted  66.08263951171891  % of  translate  moves\n",
      "Accepted  94.61154610927704  % of  rotate  moves\n",
      "Accepted  49.013149258041956  % of  dihedral  moves\n"
     ]
    }
   ],
   "source": [
    "# For progress bar\n",
    "from ipywidgets import IntProgress\n",
    "from IPython.display import display\n",
    "\n",
    "# Move types\n",
    "move_types = ['box','translate', 'rotate', 'dihedral']\n",
    "ivol = 0; itrans = 1; irot = 2; idih = 3;\n",
    "moves_attempted = np.zeros(4)\n",
    "moves_accepted  = np.zeros(4)\n",
    "\n",
    "# Use the one and only simulation box\n",
    "ibox = 1\n",
    "\n",
    "# Initialise counters\n",
    "Nsweeps = 5000\n",
    "isweep = 0\n",
    "\n",
    "# Create progress bar\n",
    "f = IntProgress(min=0, max=Nsweeps) \n",
    "display(f) # display the bar\n",
    "\n",
    "# Set pressure\n",
    "pressure = 0.2\n",
    "\n",
    "# Visualisation snapshots\n",
    "vis_snapshots = list()\n",
    "vis_interval = 100\n",
    "\n",
    "# How often to sample quantities\n",
    "sample_interval = 10\n",
    "samples = list()\n",
    "\n",
    "# In case we're using Verlet lists rather than link cells\n",
    "mdl.alkane_construct_neighbour_list(ibox)\n",
    "\n",
    "# Initialise timer\n",
    "t1 = mdl.timer_init()\n",
    "\n",
    "# Loop over the number of MC sweeps to perform\n",
    "while isweep < Nsweeps:\n",
    "    \n",
    "    # One \"sweep\" is usually interpretted as one attempt to change each degree of freedom on average once.\n",
    "    # here we have 3 translation + 2 rotation + 1 internal degrees of freedom per chain, plus 6 degrees\n",
    "    # of freedom for the simulation cell (ignoring rotations).\n",
    "    \n",
    "    # A box move changes 1 degree of freedom\n",
    "    # A chain translation move changes 3 degrees of freedom\n",
    "    # A chain rotation move changes 2 degrees of freedom\n",
    "    # A dihedral angle move changes 1 degree of freedom\n",
    "    \n",
    "    # Hence if we attempt each move type with a probability proportional to the number of degrees\n",
    "    # of freedom it changes, we need to do 2*Nchains+6 moves to get one \"sweep\". Sampling in this\n",
    "    # ratio isn't necessarily optimal, but it's a good starting point.\n",
    "    \n",
    "    # Calculate cumulative move ratios used to decide move type\n",
    "    total_deg = 6*Nchains+6\n",
    "\n",
    "    box_move_prob   = 6.0/total_deg\n",
    "    trans_move_prob = box_move_prob   + 3.0*Nchains/total_deg\n",
    "    rot_move_prob   = trans_move_prob + 2.0*Nchains/total_deg\n",
    "    dih_move_prob   = rot_move_prob   + 1.0*Nchains/total_deg \n",
    "    \n",
    "    # Loop over move attempts at the current sweep\n",
    "    imove = 0\n",
    "    while imove < 2*Nchains+6:\n",
    "\n",
    "        #==========================#\n",
    "        # Make a random trial move #\n",
    "        #==========================#\n",
    "        \n",
    "        # Pick a random chain numbered from 0 to Nchains\n",
    "        ichain = np.random.randint(0, high=Nchains)\n",
    "\n",
    "        # Backup old chain positions. Note that whenever we call a routine inside the\n",
    "        # hs_alkane library we need to add one to the bead/chain index to account for\n",
    "        # Fortran indexing. \n",
    "        current_chain = mdl.alkane_get_chain(ichain+1, ibox)\n",
    "        backup_chain = current_chain.copy() # Note copy, not equivalence\n",
    "\n",
    "        # Pick a move type at random and call the appropriate function to make that \n",
    "        # trial move and return the corresponding ratio of Boltzmann factors.\n",
    "        xi = np.random.random()\n",
    "        if xi < box_move_prob:\n",
    "            # Attempt a volume move\n",
    "            itype = ivol\n",
    "            boltz = mdl.alkane_box_resize(pressure, ibox, reset=0)\n",
    "        elif xi < trans_move_prob:\n",
    "            # Attempt a translation move\n",
    "            itype = itrans\n",
    "            boltz = mdl.alkane_translate_chain(ichain+1, ibox)\n",
    "        elif xi < rot_move_prob:\n",
    "            # Attempt a rotation move\n",
    "            itype = irot\n",
    "            boltz, quat = mdl.alkane_rotate_chain(ichain+1, ibox, bond=0)\n",
    "        else:\n",
    "            # Attempt a dihedreal angle move\n",
    "            itype = idih\n",
    "            boltz, bead1, angle = mdl.alkane_bond_rotate(ichain+1, ibox, allow_flip=1)\n",
    "        \n",
    "        # Increment attempted move counter\n",
    "        moves_attempted[itype] += 1\n",
    "        \n",
    "        #====================#\n",
    "        # Accept/reject move #\n",
    "        #====================#\n",
    "        \n",
    "        # Reject according to Metropolis criterion\n",
    "        if (np.random.random() < boltz):\n",
    "            \n",
    "            # Move accepted\n",
    "            moves_accepted[itype] += 1\n",
    "            \n",
    "            # Update linked-list for new positions if not volume move. \n",
    "            if (itype!=ivol):\n",
    "                new_chain = mdl.alkane_get_chain(ichain+1, ibox).copy()\n",
    "                for ibead in range(Nbeads):\n",
    "                    mdl.alkane_update_linked_lists(ibead+1, ichain+1, ibox, backup_chain[ibead], new_chain[ibead])\n",
    "                    \n",
    "        else:\n",
    "            \n",
    "            # Reject move\n",
    "            if (itype!=ivol):\n",
    "                # Restore old chain if single chain move\n",
    "                for ibead in range(Nbeads):\n",
    "                    current_chain[ibead] = backup_chain[ibead]\n",
    "            else:\n",
    "                # Reset the box change - special fucntion for this.\n",
    "                dumboltz = mdl.alkane_box_resize(pressure, ibox, reset=1)\n",
    "\n",
    "        imove += 1\n",
    "        \n",
    "    # Store ASE atoms shapshots at interval vis_interval        \n",
    "    if isweep%vis_interval == 0:\n",
    "        vis_snapshots.append(mk_ase_config(ibox,Nbeads, Nchains))\n",
    "        \n",
    "    # Sample \n",
    "    if isweep%sample_interval == 0:\n",
    "        samples.append(mdl.box_compute_volume(ibox))\n",
    "    \n",
    "    # Increment sweep counter and progress bar\n",
    "    isweep += 1\n",
    "    f.value += 1\n",
    "    \n",
    "    \n",
    "# Timing\n",
    "print(\"Completed \",Nsweeps,\" sweeps in \",mdl.timer_elapsed_time(),\" seconds.\")\n",
    "    \n",
    "# Report statistics\n",
    "for itype in range(4):\n",
    "    percent = 100.0 * moves_accepted[itype]/moves_attempted[itype]\n",
    "    print(\"Accepted \",percent,\" % of \",move_types[itype],\" moves\")\n",
    "    "
   ]
  },
  {
   "cell_type": "markdown",
   "id": "normal-order",
   "metadata": {},
   "source": [
    "### Visualisation and analysis"
   ]
  },
  {
   "cell_type": "markdown",
   "id": "appropriate-machinery",
   "metadata": {},
   "source": [
    "N.B. the method I'm using to visualise here doesn't seem to update the unit cell at each frame which is a bit annoying. "
   ]
  },
  {
   "cell_type": "code",
   "execution_count": 10,
   "id": "improved-franklin",
   "metadata": {
    "scrolled": true
   },
   "outputs": [
    {
     "data": {
      "application/vnd.jupyter.widget-view+json": {
       "model_id": "3235185db2cf4ca3b0017e79c9fbd6e8",
       "version_major": 2,
       "version_minor": 0
      },
      "text/plain": [
       "HBox(children=(NGLWidget(max_frame=49), VBox(children=(Dropdown(description='Show', options=('All', 'C'), valu…"
      ]
     },
     "metadata": {},
     "output_type": "display_data"
    }
   ],
   "source": [
    "# Visualise simulation snapshots\n",
    "vis_chains(vis_snapshots)"
   ]
  },
  {
   "cell_type": "code",
   "execution_count": 11,
   "id": "ready-niagara",
   "metadata": {},
   "outputs": [
    {
     "name": "stdout",
     "output_type": "stream",
     "text": [
      "No overlaps between chains found in configuration\n"
     ]
    }
   ],
   "source": [
    "# Rerun the sanity check to make sure nothing went wrong\n",
    "overlap_flag = mdl.alkane_check_chain_overlap(ibox)\n",
    "if overlap_flag != 0:\n",
    "    print(\"Overlaps between chains in configuration\")\n",
    "else:\n",
    "    print(\"No overlaps between chains found in configuration\")"
   ]
  },
  {
   "cell_type": "code",
   "execution_count": 12,
   "id": "major-mileage",
   "metadata": {},
   "outputs": [
    {
     "data": {
      "image/png": "[encoded data removed]",
      "text/plain": [
       "<Figure size 432x288 with 1 Axes>"
      ]
     },
     "metadata": {
      "needs_background": "light"
     },
     "output_type": "display_data"
    }
   ],
   "source": [
    "# Plot volume samples\n",
    "import matplotlib.pyplot as plt\n",
    "\n",
    "plt.plot(samples)\n",
    "plt.xlabel('Sample no.')\n",
    "plt.ylabel('Volume')\n",
    "plt.show()"
   ]
  },
  {
   "cell_type": "markdown",
   "id": "tight-standard",
   "metadata": {},
   "source": [
    "This indicates we've reached some kind of equilibrium?"
   ]
  },
  {
   "cell_type": "code",
   "execution_count": null,
   "id": "strange-invite",
   "metadata": {},
   "outputs": [],
   "source": []
  }
 ],
 "metadata": {
  "kernelspec": {
   "display_name": "Python 3",
   "language": "python",
   "name": "python3"
  },
  "language_info": {
   "codemirror_mode": {
    "name": "ipython",
    "version": 3
   },
   "file_extension": ".py",
   "mimetype": "text/x-python",
   "name": "python",
   "nbconvert_exporter": "python",
   "pygments_lexer": "ipython3",
   "version": "3.8.7"
  }
 },
 "nbformat": 4,
 "nbformat_minor": 5
}
